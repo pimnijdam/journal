{
 "metadata": {
  "name": "",
  "signature": "sha256:44de729c288febbfea6337570db271072428f00d4d8b2be962b3721ea15136df"
 },
 "nbformat": 3,
 "nbformat_minor": 0,
 "worksheets": [
  {
   "cells": [
    {
     "cell_type": "code",
     "collapsed": false,
     "input": [
      "import networkx as nx\n",
      "\n",
      "G = nx.DiGraph()\n",
      "\n",
      "# add 5 nodes, labeled 0-4:\n",
      "map(G.add_node, range(5))\n",
      "# 1,2 depend on 0:\n",
      "G.add_edge(0,1, weight=2)\n",
      "G.add_edge(0,2)\n",
      "# 3 depends on 1,2\n",
      "G.add_edge(1,3)\n",
      "G.add_edge(2,3)\n",
      "# 4 depends on 1\n",
      "G.add_edge(1,4)\n",
      "\n",
      "# now draw the graph:\n",
      "pos = { 0 : (0,0), 1 : (1,1), 2 : (-1,1),\n",
      "        3 : (0,2), 4 : (2,2)}\n",
      "nx.draw(G, pos, edge_color='r')\n",
      "#nx.draw(G, edge_color='r')"
     ],
     "language": "python",
     "metadata": {},
     "outputs": [
      {
       "ename": "ImportError",
       "evalue": "No module named 'networkx'",
       "output_type": "pyerr",
       "traceback": [
        "\u001b[1;31m---------------------------------------------------------------------------\u001b[0m\n\u001b[1;31mImportError\u001b[0m                               Traceback (most recent call last)",
        "\u001b[1;32m<ipython-input-1-117061b7a5d2>\u001b[0m in \u001b[0;36m<module>\u001b[1;34m()\u001b[0m\n\u001b[1;32m----> 1\u001b[1;33m \u001b[1;32mimport\u001b[0m \u001b[0mnetworkx\u001b[0m \u001b[1;32mas\u001b[0m \u001b[0mnx\u001b[0m\u001b[1;33m\u001b[0m\u001b[0m\n\u001b[0m\u001b[0;32m      2\u001b[0m \u001b[1;33m\u001b[0m\u001b[0m\n\u001b[0;32m      3\u001b[0m \u001b[0mG\u001b[0m \u001b[1;33m=\u001b[0m \u001b[0mnx\u001b[0m\u001b[1;33m.\u001b[0m\u001b[0mDiGraph\u001b[0m\u001b[1;33m(\u001b[0m\u001b[1;33m)\u001b[0m\u001b[1;33m\u001b[0m\u001b[0m\n\u001b[0;32m      4\u001b[0m \u001b[1;33m\u001b[0m\u001b[0m\n\u001b[0;32m      5\u001b[0m \u001b[1;31m# add 5 nodes, labeled 0-4:\u001b[0m\u001b[1;33m\u001b[0m\u001b[1;33m\u001b[0m\u001b[0m\n",
        "\u001b[1;31mImportError\u001b[0m: No module named 'networkx'"
       ]
      }
     ],
     "prompt_number": 1
    }
   ],
   "metadata": {}
  }
 ]
}