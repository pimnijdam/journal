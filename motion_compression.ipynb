{
 "metadata": {
  "name": ""
 },
 "nbformat": 3,
 "nbformat_minor": 0,
 "worksheets": [
  {
   "cells": [
    {
     "cell_type": "heading",
     "level": 1,
     "metadata": {},
     "source": [
      "Motion compressibility"
     ]
    },
    {
     "cell_type": "markdown",
     "metadata": {
      "slideshow": {
       "slide_type": "slide"
      }
     },
     "source": [
      "Let's start by getting an idea of what we should achieve. Free account can have 50mb per month. So let's consider 1 mb of motion data per day. The remaining 20 mb is for other sensors and overhead. That would give us $$\\frac{2^{20}}{24 \\cdot 60} \\approx 728 \\ bytes\\ per\\ minute$$ If we sample every minute for 3 seconds with 50 Hz (the current burst sensor) that would mean $$\\frac{728\\ bytes}{3\\cdot50} \\approx 4.85 \\ bytes\\ per\\ sample$$ Considering that we have accelerometer and gyro with 3 axes each that gives an average of $$\\frac{4.85}{6} \\approx 0.8\\ bytes \\approx 6.5\\ bits\\ per\\ sample$$\n",
      "\n",
      "A lower bound for the number of bits is estimated by the shannon entropy on the delta encoded values of the x-axis of the accelerometer.\n",
      "\n",
      "|Data set | Accuracy ($m/s^2$) | avg bits per sample |\n",
      "|---------|------------------|---------------------|\n",
      "|on desk  | 1                | 1.2                 |\n",
      "|on desk  | 0.1              | 3.6                 |\n",
      "|on desk  | 0.01             | 5.6                 |\n",
      "|running   | 1                | 3.1                 |\n",
      "|running   | 0.1              | 5.8                 |\n",
      "|running   | 0.01             | 6.8                 |\n",
      "\n",
      "This is really a lower bound, but it gives the impression that it's almost possible. Although probably not outright feasible we should be able to come close."
     ]
    },
    {
     "cell_type": "heading",
     "level": 2,
     "metadata": {
      "slideshow": {
       "slide_type": "slide"
      }
     },
     "source": [
      "Looking at a burst"
     ]
    },
    {
     "cell_type": "markdown",
     "metadata": {
      "slideshow": {
       "slide_type": "subslide"
      }
     },
     "source": [
      "As data set use a sample from a phone lying on a desk, and a sample from a phone during running."
     ]
    },
    {
     "cell_type": "code",
     "collapsed": false,
     "input": [
      "import json\n",
      "onDeskSample={\"sensor_name\": \"accelerometer (burst-mode)\", \"value\": {\"header\": \"x-axis, y-axis, z-axis\", \"interval\": 20, \"values\": [[-2.589, -9.551, -2.097], [-1.945, -10.165, -2.276], [-1.419, -10.699, -2.597], [-1.184, -11.065, -2.398], [-1.391, -10.768, -1.716], [-2.17, -9.545, -2.039], [-2.878, -8.648, -2.717], [-2.183, -8.416, -2.919], [-0.771, -9.043, -2.242], [0.171, -9.49, -1.545], [0.359, -9.299, -1.326], [0.414, -8.542, -1.646], [0.631, -7.792, -1.883], [0.948, -7.829, -2.092], [1.181, -8.923, -2.384], [1.353, -9.669, -2.637], [1.297, -9.321, -2.774], [0.978, -8.818, -2.767], [0.906, -8.876, -2.875], [0.609, -9.411, -3.427], [0.385, -9.627, -3.288], [0.269, -9.29, -3.447], [0.739, -8.729, -3.522], [1.093, -8.553, -3.564], [0.896, -8.638, -3.226], [0.533, -8.367, -2.945], [0.238, -7.814, -2.977], [0.177, -7.716, -2.887], [-0.201, -7.353, -3.054], [-0.786, -7.113, -3.086], [-1.255, -7.053, -3.199], [-1.331, -7.114, -3.259], [-1.277, -7.297, -3.313], [-0.923, -7.759, -3.427], [-1.347, -8.977, -3.133], [-2.991, -12.547, -3.695], [-3.554, -15.468, -7.68], [-2.096, -13.736, -9.251], [-0.447, -10.154, -5.057], [2.04, -7.258, 0.83], [2.063, -8.327, 0.516], [1.51, -10.337, -1.646], [-0.322, -10.189, -1.506], [-2.532, -9.463, -1.614], [-3.04, -8.628, -1.048], [-2.642, -8.322, -1.015], [-2.171, -8.539, -1.195], [-1.677, -9.374, -0.808], [-1.341, -9.828, -0.748], [-1.334, -9.669, -1.074], [-1.563, -9.334, -0.958], [-1.631, -9.346, -1.237], [-1.912, -9.251, -1.541], [-1.765, -9.489, -1.724], [-1.492, -9.684, -1.556], [-1.275, -9.721, -1.114], [-1.034, -9.765, -0.83], [-1.277, -9.523, -0.577], [-1.444, -9.485, -0.783], [-1.498, -9.747, -0.612], [-1.494, -9.845, -0.638], [-1.402, -9.762, -0.351], [-1.203, -9.763, 0.553], [-1.185, -9.546, 0.854], [-1.465, -9.517, 0.442], [-1.713, -9.521, 0.477], [-1.74, -9.59, 0.701], [-1.759, -9.351, 0.382], [-1.88, -9.129, 0.334], [-1.998, -9.307, 0.308], [-2.135, -9.379, 0.528], [-2.09, -9.406, 0.289], [-2.246, -9.413, 0.101], [-2.174, -9.401, 0.369], [-1.925, -9.383, 0.572], [-1.652, -9.362, 0.642], [-1.619, -9.587, 0.801], [-1.607, -9.587, 1.091], [-1.481, -9.53, 1.135], [-1.298, -9.644, 1.114], [-1.268, -9.798, 1.103], [-1.01, -9.809, 0.978], [-0.975, -9.831, 0.938], [-1, -9.719, 1.119], [-1.091, -9.635, 1.097], [-1.378, -9.722, 1.119], [-1.566, -9.623, 0.861], [-1.527, -9.589, 0.643], [-1.441, -9.539, 0.759], [-1.3, -9.403, 1.114], [-1.045, -9.369, 0.963], [-0.908, -9.539, 0.83], [-0.834, -9.605, 0.788], [-1.094, -9.555, 0.838], [-1.286, -9.681, 0.849], [-1.1, -9.619, 0.557], [-1.312, -9.473, 0.51], [-1.461, -9.429, 0.663], [-1.59, -9.443, 0.795], [-1.606, -9.582, 0.591], [-1.538, -9.529, 0.463], [-1.664, -9.414, 0.601], [-1.845, -9.439, 0.784], [-1.898, -9.455, 0.706], [-1.903, -9.496, 0.525], [-1.587, -9.511, 0.683], [-1.595, -9.529, 0.703], [-1.722, -9.443, 0.556], [-1.427, -9.443, 0.452], [-1.441, -9.571, 0.615], [-1.666, -9.548, 0.757], [-1.678, -9.515, 0.652], [-1.625, -9.474, 0.494], [-1.651, -9.422, 0.694], [-1.865, -9.314, 0.911], [-1.783, -9.404, 0.922], [-1.76, -9.514, 0.74], [-1.521, -9.529, 0.72], [-1.708, -9.486, 0.885], [-1.788, -9.463, 0.826], [-1.717, -9.457, 0.871], [-1.743, -9.46, 0.867], [-1.697, -9.478, 0.842], [-1.787, -9.442, 0.846], [-1.902, -9.458, 0.901], [-1.761, -9.471, 0.985], [-1.803, -9.341, 0.836], [-1.77, -9.467, 0.715], [-1.646, -9.384, 0.774], [-1.587, -9.575, 0.914], [-1.784, -9.464, 0.923], [-1.728, -9.343, 0.809], [-1.665, -9.274, 0.855], [-1.715, -9.488, 0.921], [-1.763, -9.481, 0.838], [-1.732, -9.519, 0.784], [-1.84, -9.453, 0.815], [-1.837, -9.4, 0.743], [-1.781, -9.442, 0.789], [-1.607, -9.456, 0.754], [-1.669, -9.456, 0.655], [-1.75, -9.492, 0.745], [-1.796, -9.409, 0.774], [-1.843, -9.436, 0.788], [-1.755, -9.474, 0.674], [-1.629, -9.477, 0.762], [-1.656, -9.446, 0.733], [-1.742, -9.376, 0.876], [-1.816, -9.432, 0.813], [-1.864, -9.528, 0.8], [-1.785, -9.438, 0.826], [-1.882, -9.353, 0.807]]}, \"sensor_id\": 413102, \"sensor description\": \"MPL Accelerometer\", \"date\": 1378887790.0, \"human date\": \"2013-09-11T10:23:10.631000\"}\n",
      "runSample = {\"sensor_name\": \"accelerometer (burst-mode)\", \"value\": {\"header\": \"x-axis, y-axis, z-axis\", \"interval\": 20, \"values\": [[2.232, -7.461, -6.944], [1.906, -5.603, -2.289], [1.284, -3.745, 0.853], [1.102, -2.356, 0.508], [1.514, -1.533, -3.802], [1.437, -0.575, -0.652], [0.929, 0.47, 2.136], [0.02, -0.393, 5.316], [2.51, -9.96, 9.357], [0.824, -14.749, -4.32], [-9.357, -17.143, -11.598], [-6.618, -13.667, -2.998], [-3.18, -15.084, 1.14], [-0.709, -16.616, 1.676], [-0.594, -8.629, -1.945], [-1.734, -3.448, -1.466], [-1.878, 0.642, -0.498], [-0.604, 2.988, 0.623], [0.537, 4.894, 1.016], [0.92, 4.09, -2.395], [1.111, -3.391, -9.98], [-3.199, -15.496, -2.05], [-11.368, -17.516, 2.72], [-7.106, -11.033, 3.668], [-3.544, -5.68, 3.467], [-3.218, -7.126, 3.065], [-6.427, -13.303, 3.381], [-7.154, -16.415, 1.906], [-4.53, -17.737, 0.594], [-0.872, -16.147, -9.472], [0.269, -14.691, -9.079], [2.414, -12.517, -4.396], [3.898, -9.098, -0.709], [4.09, -6.905, -4.099], [2.893, -5.794, -2.328], [2.136, -4.186, 0.144], [1.514, -2.596, 0.307], [1.178, -1.389, -1.447], [1.111, -0.479, -1.447], [0.412, 0.202, 0.872], [-0.661, -7.844, 7.901], [-1.217, -13.686, -1.303], [-9.96, -16.607, -10.42], [-11.761, -16.99, -8.39], [-7.193, -15.247, -3.534], [-2.921, -16.961, 1.121], [0.384, -17.689, 1.514], [1.782, -14.816, 0.815], [1.562, -9.884, -0.633], [0.317, -4.885, -0.613], [-0.882, -0.269, -0.058], [-0.843, 2.356, 1.054], [-0.154, 4.348, 1.121], [0.297, 5.545, 1.188], [0.173, 5.421, -0.02], [0.068, 1.763, -3.391], [0.613, -2.443, -9.817], [0.901, -5.852, -7.087], [0.987, -12.69, -2.241], [-9.271, -16.109, 1.475], [-7.135, -12.537, 4.837], [-3.41, -6.752, 5.488], [-0.556, -4.942, 5.364], [-0.498, -8.878, 5.249], [-3.898, -14.203, 4.023], [-4.961, -16.865, -7.403], [-2.663, -17.402, -5.862], [0.154, -15.276, -5.124], [1.265, -12.958, -7.825], [2.615, -11.569, -1.504], [2.203, -6.743, -4.521], [1.59, -4.588, -2.423], [1.054, -3.075, 0.048], [1.054, -3.075, 0.048], [1.102, -1.408, -2.385], [0.594, -0.393, -0.087], [-0.393, 0.087, 2.376], [-1.016, -1.14, 4.482], [-0.508, -10.334, 0.7], [-4.176, -14.931, -8.112], [-10.219, -17.229, -11.655], [-9.137, -16.683, -7.116], [-4.722, -15.869, -1.044], [-0.968, -17.698, 1.159], [1.562, -17.919, 0.087], [1.992, -14.538, -0.058], [0.384, -9.3, -0.958], [-1.494, -3.534, -0.757], [-2.299, 1.408, -0.633], [-1.025, 3.793, -0.824], [0.211, 5.296, -0.221], [0.929, 5.498, -1.734], [1.686, 3.975, -3.611], [2.577, 0.652, -2.941], [2.395, -4.77, -11.234], [2.194, -6.484, -4.281], [4.904, -13.006, 3.199], [-6.34, -16.271, 2.471], [-4.291, -6.599, 6.12], [-2.232, -6.187, 6.254], [-3.151, -10.995, 5.593], [-6.8, -15.266, 2.845], [-6.043, -16.635, 0.221], [-3.372, -14.136, -9.003], [-2.117, -12.833, -9.146], [1.715, -11.023, -3.056], [3.228, -9.443, -1.581], [2.883, -7.241, -3.458], [2.309, -5.383, -3.17], [1.552, -3.946, 0.048], [0.977, -2.548, 0.585], [0.958, -1.485, -1.322], [0.815, -0.958, 0.479], [0.106, -1.044, 2.213], [0.259, -6.398, 5.143], [-1.044, -12.967, 0.431], [-7.94, -16.252, -7.652], [-12.326, -17.89, -8.888], [-10.324, -15.764, -5.852], [-5.967, -14.04, -1.399], [-2.481, -16.789, 1.198], [0.393, -17.478, 0.815], [1.648, -14.107, -0.259], [1.207, -9.031, -1.14], [0.269, -3.582, -0.642], [-0.307, 0.249, -0.297], [0.336, 2.299, -0.01], [0.901, 3.783, 0.527], [1.667, 1.983, -1.973], [2.797, -0.374, -2.309], [3.553, -2.912, -6.857], [3.573, -4.396, -5.794], [4.818, -11.962, -6.934], [-1.571, -15.745, -2.27], [-4.521, -14.26, 5.258], [-3.247, -8.323, 5.182], [-3.228, -9.271, 4.109], [-5.124, -14.212, 3.735], [-6.427, -16.875, 2.462], [-4.578, -15.726, 1.198], [-3.228, -14.423, 0.135], [-2.481, -12.766, -9.702], [0.719, -10.995, -0.508], [2.759, -8.543, -0.747], [2.711, -6.398, -2.404], [2.06, -4.626, -1.485], [1.418, -3.304, -0.297], [1.293, -2.49, -1.054], [1.408, -2.098, -2.203], [-0.46, -0.633, 1.992], [-0.546, -4.3, 4.396]]}, \"sensor_id\": 408426, \"sensor description\": \"LSM330DLC 3-axis Accelerometer\", \"date\": 1379142383.0, \"human date\": \"2013-09-14T09:06:23.501000\"}\n",
      "emptySample = {\"sensor_name\": \"accelerometer (burst-mode)\", \"value\": {\"header\": \"x-axis, y-axis, z-axis\", \"interval\": 20, \"values\": []}, \"sensor_id\": 408426, \"sensor description\": \"LSM330DLC 3-axis Accelerometer\", \"date\": 1379142383.0, \"human date\": \"2013-09-14T09:06:23.501000\"}\n",
      "onDeskString=json.dumps(onDeskSample)\n",
      "runString=json.dumps(runSample)\n",
      "emptyString=json.dumps(emptySample)"
     ],
     "language": "python",
     "metadata": {},
     "outputs": [],
     "prompt_number": 9
    },
    {
     "cell_type": "markdown",
     "metadata": {
      "slideshow": {
       "slide_type": "slide"
      }
     },
     "source": [
      "Let's have a look at the raw length, and the compressed length."
     ]
    },
    {
     "cell_type": "code",
     "collapsed": false,
     "input": [
      "import gzip\n",
      "dataSizes = {'empty':{}, 'on desk':{}, 'run':{}}\n",
      "def report():\n",
      "    for (dataSetName, dataSet) in dataSizes.items():\n",
      "        reportStr = \"{}: \".format(dataSetName)\n",
      "        for (name,size) in dataSet.items():\n",
      "            reportStr += \"{} {},\".format(name,size)\n",
      "        print reportStr\n",
      "        \n",
      "dataSizes['empty']['raw'] = len(emptyString)\n",
      "dataSizes['empty']['zip'] = len(gzip.zlib.compress(emptyString))\n",
      "dataSizes['on desk']['raw'] = len(onDeskString)\n",
      "dataSizes['on desk']['zip'] = len(gzip.zlib.compress(onDeskString))\n",
      "dataSizes['run']['raw'] = len(runString)\n",
      "dataSizes['run']['zip'] = len(gzip.zlib.compress(runString))\n",
      "report()"
     ],
     "language": "python",
     "metadata": {
      "slideshow": {
       "slide_type": "subslide"
      }
     },
     "outputs": [
      {
       "output_type": "stream",
       "stream": "stdout",
       "text": [
        "run: raw 4049,zip 1678,\n",
        "on desk: raw 4061,zip 1443,\n",
        "empty: raw 265,zip 192,\n"
       ]
      }
     ],
     "prompt_number": 10
    },
    {
     "cell_type": "markdown",
     "metadata": {
      "slideshow": {
       "slide_type": "slide"
      }
     },
     "source": [
      "And let's see what delta encoding the values can achieve."
     ]
    },
    {
     "cell_type": "code",
     "collapsed": false,
     "input": [
      "class Encoder:\n",
      "    def predictSame(soFar):\n",
      "        if len(soFar) == 0:\n",
      "            return (0,0,0)\n",
      "        return soFar[-1]\n",
      "        \n",
      "    def __init__(self,predictor=predictSame, decimals=3):\n",
      "        self.predict = predictor\n",
      "        self.decimals = decimals\n",
      "        \n",
      "    def encode(self, raw):\n",
      "        encoded = []\n",
      "        seen = []\n",
      "        for (x,y,z) in raw:\n",
      "            (pX,pY,pZ) = self.predict(seen)\n",
      "            dx = round(x-pX, self.decimals)\n",
      "            dy = round(y-pY, self.decimals)\n",
      "            dz = round(z-pZ, self.decimals)\n",
      "            encoded.append([dx,dy,dz])\n",
      "            seen.append([pX+dx, pY+dy, pZ+dz])\n",
      "        return encoded\n",
      "    \n",
      "    def decode(self, encoded):\n",
      "        decoded = []\n",
      "        for (dx,dy,dz) in encoded:\n",
      "            (pX,pY,pZ) = self.predict(decoded)\n",
      "            x = round(pX+dx, self.decimals)\n",
      "            y = round(pY+dy, self.decimals)\n",
      "            z = round(pZ+dz, self.decimals)\n",
      "            decoded.append([x,y,z])\n",
      "        return decoded"
     ],
     "language": "python",
     "metadata": {
      "slideshow": {
       "slide_type": "fragment"
      }
     },
     "outputs": [],
     "prompt_number": 11
    },
    {
     "cell_type": "code",
     "collapsed": false,
     "input": [
      "deltaEncoder = Encoder(decimals=1)\n",
      "data = onDeskSample['value']['values']\n",
      "print len(gzip.zlib.compress(json.dumps(data)))\n",
      "print len(gzip.zlib.compress(json.dumps(deltaEncoder.encode(data))))\n",
      "\n",
      "y = [x for (x,y1,z1) in data]\n",
      "z = [x for (x,y1,z1) in deltaEncoder.encode(data)]\n",
      "rcParams['figure.figsize'] = 20, 10\n",
      "#plot(range(len(y)), y, 'x-')\n",
      "#plot(range(len(z)), z, 'o-')\n",
      "(bins,s1,s2)=(hist(z, bins=40*10**1, range=(-20,20)))\n",
      "s = sum(bins) * 1.0\n",
      "probs = [f / s for f in bins]\n",
      "H = - sum([p * log2(p) for p in probs if p > 0])\n",
      "print H"
     ],
     "language": "python",
     "metadata": {
      "slideshow": {
       "slide_type": "fragment"
      }
     },
     "outputs": [
      {
       "output_type": "stream",
       "stream": "stdout",
       "text": [
        "1225\n",
        "549\n",
        "3.2008433503"
       ]
      },
      {
       "output_type": "stream",
       "stream": "stdout",
       "text": [
        "\n"
       ]
      },
      {
       "metadata": {},
       "output_type": "display_data",
       "png": "[encoded data removed]",
       "text": [
        "<matplotlib.figure.Figure at 0x45f6410>"
       ]
      }
     ],
     "prompt_number": 19
    },
    {
     "cell_type": "code",
     "collapsed": false,
     "input": [],
     "language": "python",
     "metadata": {},
     "outputs": []
    }
   ],
   "metadata": {}
  }
 ]
}