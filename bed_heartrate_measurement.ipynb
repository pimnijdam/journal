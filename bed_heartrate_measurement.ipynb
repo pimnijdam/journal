{
 "metadata": {
  "name": "",
  "signature": "sha256:fed8f4c9ffae967e3d7ae9053f2f6a1bcefd575efc8ee094edc35ca0b03d472c"
 },
 "nbformat": 3,
 "nbformat_minor": 0,
 "worksheets": [
  {
   "cells": [
    {
     "cell_type": "markdown",
     "metadata": {},
     "source": [
      "# Measure heart rate during sleep, cheaply\n",
      "Simple experiment with iPhone and sensortag to see whether measuring heart rate during sleep is feasible"
     ]
    },
    {
     "cell_type": "code",
     "collapsed": false,
     "input": [
      "import pandas\n",
      "import scipy\n",
      "import scipy.fftpack\n",
      "import pylab"
     ],
     "language": "python",
     "metadata": {},
     "outputs": [],
     "prompt_number": 1
    },
    {
     "cell_type": "code",
     "collapsed": false,
     "input": [
      "%pylab inline"
     ],
     "language": "python",
     "metadata": {},
     "outputs": [
      {
       "output_type": "stream",
       "stream": "stdout",
       "text": [
        "Populating the interactive namespace from numpy and matplotlib\n"
       ]
      }
     ],
     "prompt_number": 32
    },
    {
     "cell_type": "markdown",
     "metadata": {},
     "source": [
      "#Method to calculate spectrum\n",
      "TODO: it seems scipy does provide Welch's algorithm"
     ]
    },
    {
     "cell_type": "code",
     "collapsed": false,
     "input": [
      "def calculateSpectrum(sampleRate, y):\n",
      "        #  - Use hamming window to mitigate spectral leakage\n",
      "        #fft_input = np.fft.fft(input * np.hamming(len(input)))\n",
      "        #n=len(fft_input)\n",
      "        #freq = np.fft.fftfreq(n, 1/float(sampleRate))\n",
      "        #half_n = np.ceil(n/2.0)\n",
      "        #fft_input_half = fft_input[:half_n]\n",
      "        #freq_half = freq[:half_n]\n",
      "        #amplitude = (2.0 / n) * np.abs(fft_input_half)\n",
      "        #detrend\n",
      "        y = y-mean(y)\n",
      "        #y = y / sqrt(var(y))\n",
      "        # use hanning window to mitigate effect of cutting edge\n",
      "        y = y * np.hanning(len(y))\n",
      "        #calculate frequencies \n",
      "        N = len(y)\n",
      "        T = 1.0/sampleRate\n",
      "        xf = np.linspace(0.0, 1.0/(2.0*T), N/2)\n",
      "        #perform fft\n",
      "        yf = scipy.fftpack.fft(y)\n",
      "        #return tuple (freq[], power density[])\n",
      "        return (xf, np.abs(yf[:N/2])**2 * 2.0 * sampleRate / N)\n",
      "\n",
      "def windowed(input, length, overlap=0):\n",
      "        ###Window the data into segments with length \"length\" samples and overlap of \"overlap\" samples.\n",
      "        windows = []\n",
      "        begin = 0\n",
      "        end = begin + length\n",
      "        while end < len(input):\n",
      "                windows.append(input[begin:end])\n",
      "                begin += length-overlap\n",
      "                end = begin + length\n",
      "        return windows\n"
     ],
     "language": "python",
     "metadata": {},
     "outputs": [],
     "prompt_number": 33
    },
    {
     "cell_type": "heading",
     "level": 1,
     "metadata": {},
     "source": [
      "iPhone"
     ]
    },
    {
     "cell_type": "heading",
     "level": 2,
     "metadata": {},
     "source": [
      "Null measurement"
     ]
    },
    {
     "cell_type": "code",
     "collapsed": false,
     "input": [
      "data = pandas.read_csv('data/iphone_control_mattrass.csv', parse_dates=True, index_col=0)\n",
      "y = data.accelerationZ.values\n",
      "subplot(2,1,1)\n",
      "plot(y)\n",
      "subplot(2,1,2)\n",
      "(x,y) = calculateSpectrum(100, data.accelerationZ.values)\n",
      "y = y + calculateSpectrum(100, data.accelerationX.values)[1]\n",
      "y = y + calculateSpectrum(100, data.accelerationY.values)[1]\n",
      "y = y + calculateSpectrum(100, data.motionPitch.values)[1]\n",
      "y = y + calculateSpectrum(100, data.motionRoll.values)[1]\n",
      "y = y / 5.0\n",
      "plot(x[5:]*60,y[5:])\n",
      "xlim (10,180)\n",
      "ylim(0,0.01)"
     ],
     "language": "python",
     "metadata": {},
     "outputs": [
      {
       "metadata": {},
       "output_type": "pyout",
       "prompt_number": 34,
       "text": [
        "(0, 0.01)"
       ]
      }
     ],
     "prompt_number": 34
    },
    {
     "cell_type": "markdown",
     "metadata": {},
     "source": [
      "##iPhone on mattress\n",
      "Measured 47 bpm with iPhone camera"
     ]
    },
    {
     "cell_type": "code",
     "collapsed": true,
     "input": [
      "data = pandas.read_csv('data/iphone_on_mattrass.csv', parse_dates=True, index_col=0)\n",
      "inputData = data.motionPitch.values\n",
      "subplot(2,1,1)\n",
      "plot(inputData)\n",
      "subplot(2,1,2)\n",
      "#average the spectrum over all three axis\n",
      "(x,y) = calculateSpectrum(100, data.accelerationZ.values)\n",
      "y = y + calculateSpectrum(100, data.accelerationX.values)[1]\n",
      "y = y + calculateSpectrum(100, data.accelerationY.values)[1]\n",
      "y = y + calculateSpectrum(100, data.motionPitch.values)[1]\n",
      "y = y + calculateSpectrum(100, data.motionRoll.values)[1]\n",
      "y = y / 5.0\n",
      "plot(x[5:]*60,y[5:])\n",
      "xlim (10,180)\n",
      "ylim(0,0.01)"
     ],
     "language": "python",
     "metadata": {},
     "outputs": [
      {
       "metadata": {},
       "output_type": "pyout",
       "prompt_number": 35,
       "text": [
        "(0, 0.01)"
       ]
      }
     ],
     "prompt_number": 35
    },
    {
     "cell_type": "markdown",
     "metadata": {},
     "source": [
      "##iPhone under cushion\n",
      "Measured 46 bpm with iPhone camera"
     ]
    },
    {
     "cell_type": "code",
     "collapsed": false,
     "input": [
      "data = pandas.read_csv('data/iphone_under_cushion.csv', parse_dates=True, index_col=0)\n",
      "inputData = data.motionPitch.values\n",
      "subplot(2,1,1)\n",
      "plot(inputData)\n",
      "subplot(2,1,2)\n",
      "#average the spectrum over all three axis\n",
      "(x,y) = calculateSpectrum(100, data.accelerationZ.values)\n",
      "y = y + calculateSpectrum(100, data.accelerationX.values)[1]\n",
      "y = y + calculateSpectrum(100, data.accelerationY.values)[1]\n",
      "y = y + calculateSpectrum(100, data.motionPitch.values)[1]\n",
      "y = y + calculateSpectrum(100, data.motionRoll.values)[1]\n",
      "y = y / 5.0\n",
      "plot(x[5:]*60,y[5:])\n",
      "xlim (10,180)\n",
      "ylim(0,0.01)"
     ],
     "language": "python",
     "metadata": {},
     "outputs": [
      {
       "metadata": {},
       "output_type": "pyout",
       "prompt_number": 36,
       "text": [
        "(0, 0.01)"
       ]
      }
     ],
     "prompt_number": 36
    },
    {
     "cell_type": "markdown",
     "metadata": {},
     "source": [
      "##Windowing\n",
      "Ai, to apply windowing we need more data, otherwise the spectral resolution will be very low"
     ]
    },
    {
     "cell_type": "code",
     "collapsed": false,
     "input": [
      "def spectrumWindowed(data,sampleRate,dt):\n",
      "    windowLength = dt * sampleRate\n",
      "    overlap = windowLength // 2\n",
      "    windows = []\n",
      "    for y in [data.accelerationX, data.accelerationY, data.accelerationZ, data.motionPitch, data.motionRoll]:\n",
      "\n",
      "        for w in windowed(y.values, windowLength, overlap):\n",
      "            windows.append(calculateSpectrum(sampleRate, w))\n",
      "\n",
      "    fftAvg = 0\n",
      "    fftFreq = windows[0][0]\n",
      "    for (f,a) in windows:\n",
      "        fftAvg += a / float(len(windows))\n",
      "    return (fftFreq, fftAvg)"
     ],
     "language": "python",
     "metadata": {},
     "outputs": [],
     "prompt_number": 46
    },
    {
     "cell_type": "code",
     "collapsed": false,
     "input": [
      "plotSpec(data.accelerationZ, 100,20)"
     ],
     "language": "python",
     "metadata": {},
     "outputs": [],
     "prompt_number": 405
    },
    {
     "cell_type": "heading",
     "level": 2,
     "metadata": {},
     "source": [
      "Sensortag"
     ]
    },
    {
     "cell_type": "markdown",
     "metadata": {},
     "source": [
      "Sensor tag data seems to be useless. Constant values after the start, and from the start of the graph it seems the data is actually going through a low pass filter. Agh"
     ]
    },
    {
     "cell_type": "markdown",
     "metadata": {},
     "source": [
      "#Conclusion\n",
      "- SensorTag cannot be used to measure heart rate\n",
      "- Phone seems to give a consistent value both on the mattress and under the cusion. In this case ~52 Hz\n",
      "- Phone measured values has a bias in both measurements of approx +4Hz\n",
      "- A test case is needed with a higher heartrate\n",
      "- From these 2 simple data sets and the null measurements it seems feasible to measure heartrate with some accuracy\n",
      "- It might be interesting to also measure respiration, more data needed. In the null measurement there seemed a lot of energy distributed over the lower frequencies"
     ]
    }
   ],
   "metadata": {}
  }
 ]
}