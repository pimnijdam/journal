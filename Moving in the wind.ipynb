{
 "metadata": {
  "name": ""
 },
 "nbformat": 3,
 "nbformat_minor": 0,
 "worksheets": [
  {
   "cells": [
    {
     "cell_type": "markdown",
     "metadata": {},
     "source": [
      "#Moving in the wind\n",
      "While biking wind can be a bless or a curse, depending on strength and direction. Let's examine how wind affects bikers."
     ]
    },
    {
     "cell_type": "markdown",
     "metadata": {},
     "source": [
      "Import requirements."
     ]
    },
    {
     "cell_type": "code",
     "collapsed": false,
     "input": [
      "from sympy import *\n",
      "init_printing()"
     ],
     "language": "python",
     "metadata": {},
     "outputs": [],
     "prompt_number": 10
    },
    {
     "cell_type": "markdown",
     "metadata": {},
     "source": [
      "###Equations\n",
      "Write down the basic variables and equations for a biker cruising at a constant speed, on a horizontal plane. We have a bike with three forces acting upon it:\n",
      "\n",
      " - A force forward, produced by the biker. Denote by $F_{forward}$\n",
      " - The wind. The force of the wind is denoted by $F_{wind}$ and the angle between $F_{forward}$ and $F_{wind}$ by $\\theta$.\n",
      " - Drag, denoted by $F_{drag}$.\n",
      "\n",
      "Since we're considering constant speed, drag equals the resulting force $F_{result}$ from $F_{forward}$ and $F_{wind}$ but in opposite direction. Writing down these equations we get:\n",
      "\n",
      "$F_{wind}$ is the force that we're interested in. Nota bene, the force and angle of the wind depend on speed and direction of the bike! Consider moving at the same speed and direction of the wind, in that case $F_{wind}=0$.  Let's start with constant speed and calculate the power required to keep the bike moving."
     ]
    },
    {
     "cell_type": "code",
     "collapsed": false,
     "input": [
      "F_forward, F_wind, theta = symbols(\"F_forward F_wind theta\")\n",
      "v_forward, v_wind = symbols(\"v_forward v_wind\")\n",
      "k = symbols(\"k\")\n",
      "v_result = sqrt((v_forward + cos(theta) * v_wind)**2 + (sin(theta) * v_wind)**2)\n",
      "F_result = k * v_result**2\n",
      "F_forward = cos(theta) * F_result\n",
      "print F_forward"
     ],
     "language": "python",
     "metadata": {},
     "outputs": [
      {
       "output_type": "stream",
       "stream": "stdout",
       "text": [
        "k*(v_wind**2*sin(theta)**2 + (v_forward + v_wind*cos(theta))**2)*cos(theta)\n"
       ]
      }
     ],
     "prompt_number": 91
    },
    {
     "cell_type": "code",
     "collapsed": false,
     "input": [
      "y = F_forward.subs([(v_forward, 10), (v_wind,10), (k, 1)])\n",
      "plot(y, (theta, 0,pi))"
     ],
     "language": "python",
     "metadata": {},
     "outputs": [
      {
       "metadata": {},
       "output_type": "display_data",
       "png": "[encoded data removed]",
       "text": [
        "<matplotlib.figure.Figure at 0x6275950>"
       ]
      },
      {
       "metadata": {},
       "output_type": "pyout",
       "prompt_number": 92,
       "text": [
        "<sympy.plotting.plot.Plot at 0x628a0d0>"
       ]
      }
     ],
     "prompt_number": 92
    },
    {
     "cell_type": "code",
     "collapsed": false,
     "input": [
      "x,y = symbols(\"x y\")\n",
      "(1,0) + ("
     ],
     "language": "python",
     "metadata": {},
     "outputs": [],
     "prompt_number": 87
    }
   ],
   "metadata": {}
  }
 ]
}